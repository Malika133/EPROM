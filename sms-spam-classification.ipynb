{
 "cells": [
  {
   "cell_type": "code",
   "execution_count": 1,
   "id": "1347dadf",
   "metadata": {
    "_cell_guid": "b1076dfc-b9ad-4769-8c92-a6c4dae69d19",
    "_uuid": "8f2839f25d086af736a60e9eeb907d3b93b6e0e5",
    "execution": {
     "iopub.execute_input": "2022-01-07T16:10:39.748704Z",
     "iopub.status.busy": "2022-01-07T16:10:39.746620Z",
     "iopub.status.idle": "2022-01-07T16:10:39.759719Z",
     "shell.execute_reply": "2022-01-07T16:10:39.759039Z",
     "shell.execute_reply.started": "2022-01-06T15:26:29.446382Z"
    },
    "papermill": {
     "duration": 0.07162,
     "end_time": "2022-01-07T16:10:39.759913",
     "exception": false,
     "start_time": "2022-01-07T16:10:39.688293",
     "status": "completed"
    },
    "tags": []
   },
   "outputs": [],
   "source": [
    "#Loading the Libraries\n",
    "import pandas as pd # Pandas is used to analyze data.\n",
    "import numpy as np  # NumPy is a library used for working with arrays."
   ]
  },
  {
   "cell_type": "code",
   "execution_count": 2,
   "id": "0193b3b0",
   "metadata": {
    "execution": {
     "iopub.execute_input": "2022-01-07T16:10:39.984263Z",
     "iopub.status.busy": "2022-01-07T16:10:39.983533Z",
     "iopub.status.idle": "2022-01-07T16:10:40.045078Z",
     "shell.execute_reply": "2022-01-07T16:10:40.046035Z",
     "shell.execute_reply.started": "2022-01-06T15:26:29.452278Z"
    },
    "papermill": {
     "duration": 0.178984,
     "end_time": "2022-01-07T16:10:40.046308",
     "exception": false,
     "start_time": "2022-01-07T16:10:39.867324",
     "status": "completed"
    },
    "tags": []
   },
   "outputs": [],
   "source": [
    "# Reading the csv file\n",
    "messages=pd.read_csv('../input/sms-spam-collection-dataset/spam.csv',encoding=('ISO-8859-1'))"
   ]
  },
  {
   "cell_type": "code",
   "execution_count": 3,
   "id": "ec83f915",
   "metadata": {
    "execution": {
     "iopub.execute_input": "2022-01-07T16:10:40.257247Z",
     "iopub.status.busy": "2022-01-07T16:10:40.256229Z",
     "iopub.status.idle": "2022-01-07T16:10:40.281314Z",
     "shell.execute_reply": "2022-01-07T16:10:40.282634Z",
     "shell.execute_reply.started": "2022-01-06T15:26:29.566373Z"
    },
    "papermill": {
     "duration": 0.132412,
     "end_time": "2022-01-07T16:10:40.283109",
     "exception": false,
     "start_time": "2022-01-07T16:10:40.150697",
     "status": "completed"
    },
    "tags": []
   },
   "outputs": [
    {
     "data": {
      "text/html": [
       "<div>\n",
       "<style scoped>\n",
       "    .dataframe tbody tr th:only-of-type {\n",
       "        vertical-align: middle;\n",
       "    }\n",
       "\n",
       "    .dataframe tbody tr th {\n",
       "        vertical-align: top;\n",
       "    }\n",
       "\n",
       "    .dataframe thead th {\n",
       "        text-align: right;\n",
       "    }\n",
       "</style>\n",
       "<table border=\"1\" class=\"dataframe\">\n",
       "  <thead>\n",
       "    <tr style=\"text-align: right;\">\n",
       "      <th></th>\n",
       "      <th>v1</th>\n",
       "      <th>v2</th>\n",
       "      <th>Unnamed: 2</th>\n",
       "      <th>Unnamed: 3</th>\n",
       "      <th>Unnamed: 4</th>\n",
       "    </tr>\n",
       "  </thead>\n",
       "  <tbody>\n",
       "    <tr>\n",
       "      <th>0</th>\n",
       "      <td>ham</td>\n",
       "      <td>Go until jurong point, crazy.. Available only ...</td>\n",
       "      <td>NaN</td>\n",
       "      <td>NaN</td>\n",
       "      <td>NaN</td>\n",
       "    </tr>\n",
       "    <tr>\n",
       "      <th>1</th>\n",
       "      <td>ham</td>\n",
       "      <td>Ok lar... Joking wif u oni...</td>\n",
       "      <td>NaN</td>\n",
       "      <td>NaN</td>\n",
       "      <td>NaN</td>\n",
       "    </tr>\n",
       "    <tr>\n",
       "      <th>2</th>\n",
       "      <td>spam</td>\n",
       "      <td>Free entry in 2 a wkly comp to win FA Cup fina...</td>\n",
       "      <td>NaN</td>\n",
       "      <td>NaN</td>\n",
       "      <td>NaN</td>\n",
       "    </tr>\n",
       "    <tr>\n",
       "      <th>3</th>\n",
       "      <td>ham</td>\n",
       "      <td>U dun say so early hor... U c already then say...</td>\n",
       "      <td>NaN</td>\n",
       "      <td>NaN</td>\n",
       "      <td>NaN</td>\n",
       "    </tr>\n",
       "    <tr>\n",
       "      <th>4</th>\n",
       "      <td>ham</td>\n",
       "      <td>Nah I don't think he goes to usf, he lives aro...</td>\n",
       "      <td>NaN</td>\n",
       "      <td>NaN</td>\n",
       "      <td>NaN</td>\n",
       "    </tr>\n",
       "  </tbody>\n",
       "</table>\n",
       "</div>"
      ],
      "text/plain": [
       "     v1                                                 v2 Unnamed: 2  \\\n",
       "0   ham  Go until jurong point, crazy.. Available only ...        NaN   \n",
       "1   ham                      Ok lar... Joking wif u oni...        NaN   \n",
       "2  spam  Free entry in 2 a wkly comp to win FA Cup fina...        NaN   \n",
       "3   ham  U dun say so early hor... U c already then say...        NaN   \n",
       "4   ham  Nah I don't think he goes to usf, he lives aro...        NaN   \n",
       "\n",
       "  Unnamed: 3 Unnamed: 4  \n",
       "0        NaN        NaN  \n",
       "1        NaN        NaN  \n",
       "2        NaN        NaN  \n",
       "3        NaN        NaN  \n",
       "4        NaN        NaN  "
      ]
     },
     "execution_count": 3,
     "metadata": {},
     "output_type": "execute_result"
    }
   ],
   "source": [
    "messages.head()"
   ]
  },
  {
   "cell_type": "code",
   "execution_count": 4,
   "id": "15bfc35b",
   "metadata": {
    "execution": {
     "iopub.execute_input": "2022-01-07T16:10:40.472158Z",
     "iopub.status.busy": "2022-01-07T16:10:40.471223Z",
     "iopub.status.idle": "2022-01-07T16:10:40.474335Z",
     "shell.execute_reply": "2022-01-07T16:10:40.474912Z",
     "shell.execute_reply.started": "2022-01-06T15:26:29.580572Z"
    },
    "papermill": {
     "duration": 0.09578,
     "end_time": "2022-01-07T16:10:40.475085",
     "exception": false,
     "start_time": "2022-01-07T16:10:40.379305",
     "status": "completed"
    },
    "tags": []
   },
   "outputs": [],
   "source": [
    "df = pd.DataFrame( messages,columns=['v1','v2'])"
   ]
  },
  {
   "cell_type": "code",
   "execution_count": 5,
   "id": "82f6d193",
   "metadata": {
    "execution": {
     "iopub.execute_input": "2022-01-07T16:10:40.588483Z",
     "iopub.status.busy": "2022-01-07T16:10:40.587722Z",
     "iopub.status.idle": "2022-01-07T16:10:40.593843Z",
     "shell.execute_reply": "2022-01-07T16:10:40.594392Z",
     "shell.execute_reply.started": "2022-01-06T15:26:29.689894Z"
    },
    "papermill": {
     "duration": 0.067462,
     "end_time": "2022-01-07T16:10:40.594572",
     "exception": false,
     "start_time": "2022-01-07T16:10:40.527110",
     "status": "completed"
    },
    "tags": []
   },
   "outputs": [
    {
     "data": {
      "text/html": [
       "<div>\n",
       "<style scoped>\n",
       "    .dataframe tbody tr th:only-of-type {\n",
       "        vertical-align: middle;\n",
       "    }\n",
       "\n",
       "    .dataframe tbody tr th {\n",
       "        vertical-align: top;\n",
       "    }\n",
       "\n",
       "    .dataframe thead th {\n",
       "        text-align: right;\n",
       "    }\n",
       "</style>\n",
       "<table border=\"1\" class=\"dataframe\">\n",
       "  <thead>\n",
       "    <tr style=\"text-align: right;\">\n",
       "      <th></th>\n",
       "      <th>v1</th>\n",
       "      <th>v2</th>\n",
       "    </tr>\n",
       "  </thead>\n",
       "  <tbody>\n",
       "    <tr>\n",
       "      <th>0</th>\n",
       "      <td>ham</td>\n",
       "      <td>Go until jurong point, crazy.. Available only ...</td>\n",
       "    </tr>\n",
       "    <tr>\n",
       "      <th>1</th>\n",
       "      <td>ham</td>\n",
       "      <td>Ok lar... Joking wif u oni...</td>\n",
       "    </tr>\n",
       "    <tr>\n",
       "      <th>2</th>\n",
       "      <td>spam</td>\n",
       "      <td>Free entry in 2 a wkly comp to win FA Cup fina...</td>\n",
       "    </tr>\n",
       "    <tr>\n",
       "      <th>3</th>\n",
       "      <td>ham</td>\n",
       "      <td>U dun say so early hor... U c already then say...</td>\n",
       "    </tr>\n",
       "    <tr>\n",
       "      <th>4</th>\n",
       "      <td>ham</td>\n",
       "      <td>Nah I don't think he goes to usf, he lives aro...</td>\n",
       "    </tr>\n",
       "  </tbody>\n",
       "</table>\n",
       "</div>"
      ],
      "text/plain": [
       "     v1                                                 v2\n",
       "0   ham  Go until jurong point, crazy.. Available only ...\n",
       "1   ham                      Ok lar... Joking wif u oni...\n",
       "2  spam  Free entry in 2 a wkly comp to win FA Cup fina...\n",
       "3   ham  U dun say so early hor... U c already then say...\n",
       "4   ham  Nah I don't think he goes to usf, he lives aro..."
      ]
     },
     "execution_count": 5,
     "metadata": {},
     "output_type": "execute_result"
    }
   ],
   "source": [
    "df.head()"
   ]
  },
  {
   "cell_type": "markdown",
   "id": "787a167c",
   "metadata": {
    "papermill": {
     "duration": 0.051026,
     "end_time": "2022-01-07T16:10:40.696565",
     "exception": false,
     "start_time": "2022-01-07T16:10:40.645539",
     "status": "completed"
    },
    "tags": []
   },
   "source": [
    "## Exploratory Data Analysis\n"
   ]
  },
  {
   "cell_type": "code",
   "execution_count": 6,
   "id": "1d32e524",
   "metadata": {
    "execution": {
     "iopub.execute_input": "2022-01-07T16:10:40.819058Z",
     "iopub.status.busy": "2022-01-07T16:10:40.818121Z",
     "iopub.status.idle": "2022-01-07T16:10:40.824232Z",
     "shell.execute_reply": "2022-01-07T16:10:40.823676Z",
     "shell.execute_reply.started": "2022-01-06T15:26:29.702858Z"
    },
    "papermill": {
     "duration": 0.076897,
     "end_time": "2022-01-07T16:10:40.824430",
     "exception": false,
     "start_time": "2022-01-07T16:10:40.747533",
     "status": "completed"
    },
    "tags": []
   },
   "outputs": [
    {
     "name": "stdout",
     "output_type": "stream",
     "text": [
      "<class 'pandas.core.frame.DataFrame'>\n",
      "RangeIndex: 5572 entries, 0 to 5571\n",
      "Data columns (total 2 columns):\n",
      " #   Column  Non-Null Count  Dtype \n",
      "---  ------  --------------  ----- \n",
      " 0   v1      5572 non-null   object\n",
      " 1   v2      5572 non-null   object\n",
      "dtypes: object(2)\n",
      "memory usage: 87.2+ KB\n"
     ]
    }
   ],
   "source": [
    "#Info for the data\n",
    "df.info()"
   ]
  },
  {
   "cell_type": "code",
   "execution_count": 7,
   "id": "e650b3ec",
   "metadata": {
    "execution": {
     "iopub.execute_input": "2022-01-07T16:10:40.942003Z",
     "iopub.status.busy": "2022-01-07T16:10:40.939899Z",
     "iopub.status.idle": "2022-01-07T16:10:40.944851Z",
     "shell.execute_reply": "2022-01-07T16:10:40.944247Z",
     "shell.execute_reply.started": "2022-01-06T15:26:29.717177Z"
    },
    "papermill": {
     "duration": 0.068198,
     "end_time": "2022-01-07T16:10:40.945010",
     "exception": false,
     "start_time": "2022-01-07T16:10:40.876812",
     "status": "completed"
    },
    "tags": []
   },
   "outputs": [
    {
     "data": {
      "text/plain": [
       "v1    0\n",
       "v2    0\n",
       "dtype: int64"
      ]
     },
     "execution_count": 7,
     "metadata": {},
     "output_type": "execute_result"
    }
   ],
   "source": [
    "#Finding Missing Values\n",
    "df.isnull().sum()"
   ]
  },
  {
   "cell_type": "code",
   "execution_count": 8,
   "id": "001b299a",
   "metadata": {
    "execution": {
     "iopub.execute_input": "2022-01-07T16:10:41.055918Z",
     "iopub.status.busy": "2022-01-07T16:10:41.055091Z",
     "iopub.status.idle": "2022-01-07T16:10:41.058901Z",
     "shell.execute_reply": "2022-01-07T16:10:41.059456Z",
     "shell.execute_reply.started": "2022-01-06T15:26:29.729525Z"
    },
    "papermill": {
     "duration": 0.062458,
     "end_time": "2022-01-07T16:10:41.059624",
     "exception": false,
     "start_time": "2022-01-07T16:10:40.997166",
     "status": "completed"
    },
    "tags": []
   },
   "outputs": [
    {
     "data": {
      "text/plain": [
       "(5572, 2)"
      ]
     },
     "execution_count": 8,
     "metadata": {},
     "output_type": "execute_result"
    }
   ],
   "source": [
    "#Rows and Columns\n",
    "df.shape"
   ]
  },
  {
   "cell_type": "code",
   "execution_count": 9,
   "id": "6e4e0c04",
   "metadata": {
    "execution": {
     "iopub.execute_input": "2022-01-07T16:10:41.174032Z",
     "iopub.status.busy": "2022-01-07T16:10:41.173170Z",
     "iopub.status.idle": "2022-01-07T16:10:41.176722Z",
     "shell.execute_reply": "2022-01-07T16:10:41.177261Z",
     "shell.execute_reply.started": "2022-01-06T15:26:29.739991Z"
    },
    "papermill": {
     "duration": 0.06496,
     "end_time": "2022-01-07T16:10:41.177478",
     "exception": false,
     "start_time": "2022-01-07T16:10:41.112518",
     "status": "completed"
    },
    "tags": []
   },
   "outputs": [
    {
     "data": {
      "text/plain": [
       "ham     4825\n",
       "spam     747\n",
       "Name: v1, dtype: int64"
      ]
     },
     "execution_count": 9,
     "metadata": {},
     "output_type": "execute_result"
    }
   ],
   "source": [
    "# Target variable counts\n",
    "messages['v1'].value_counts()"
   ]
  },
  {
   "cell_type": "markdown",
   "id": "a810d06a",
   "metadata": {
    "papermill": {
     "duration": 0.052059,
     "end_time": "2022-01-07T16:10:41.282327",
     "exception": false,
     "start_time": "2022-01-07T16:10:41.230268",
     "status": "completed"
    },
    "tags": []
   },
   "source": [
    "## Data Processing"
   ]
  },
  {
   "cell_type": "code",
   "execution_count": 10,
   "id": "ebca5f4f",
   "metadata": {
    "execution": {
     "iopub.execute_input": "2022-01-07T16:10:41.417123Z",
     "iopub.status.busy": "2022-01-07T16:10:41.406948Z",
     "iopub.status.idle": "2022-01-07T16:10:41.443419Z",
     "shell.execute_reply": "2022-01-07T16:10:41.442777Z",
     "shell.execute_reply.started": "2022-01-06T15:26:29.750867Z"
    },
    "papermill": {
     "duration": 0.108015,
     "end_time": "2022-01-07T16:10:41.443579",
     "exception": false,
     "start_time": "2022-01-07T16:10:41.335564",
     "status": "completed"
    },
    "tags": []
   },
   "outputs": [],
   "source": [
    "#Calculating Length of Message\n",
    "message_length=0\n",
    "length=[]\n",
    "for i in range(len(messages)):\n",
    "    length.append(len(df['v2'][i]))"
   ]
  },
  {
   "cell_type": "code",
   "execution_count": 11,
   "id": "8486d191",
   "metadata": {
    "execution": {
     "iopub.execute_input": "2022-01-07T16:10:41.558948Z",
     "iopub.status.busy": "2022-01-07T16:10:41.558099Z",
     "iopub.status.idle": "2022-01-07T16:10:41.561660Z",
     "shell.execute_reply": "2022-01-07T16:10:41.562157Z",
     "shell.execute_reply.started": "2022-01-06T15:26:29.797848Z"
    },
    "papermill": {
     "duration": 0.065009,
     "end_time": "2022-01-07T16:10:41.562345",
     "exception": false,
     "start_time": "2022-01-07T16:10:41.497336",
     "status": "completed"
    },
    "tags": []
   },
   "outputs": [],
   "source": [
    "#Adding Length column to the dataframe\n",
    "df['length']=length"
   ]
  },
  {
   "cell_type": "code",
   "execution_count": 12,
   "id": "6d8f0184",
   "metadata": {
    "execution": {
     "iopub.execute_input": "2022-01-07T16:10:41.681144Z",
     "iopub.status.busy": "2022-01-07T16:10:41.680138Z",
     "iopub.status.idle": "2022-01-07T16:10:41.684217Z",
     "shell.execute_reply": "2022-01-07T16:10:41.684770Z",
     "shell.execute_reply.started": "2022-01-06T15:26:29.866768Z"
    },
    "papermill": {
     "duration": 0.067072,
     "end_time": "2022-01-07T16:10:41.684944",
     "exception": false,
     "start_time": "2022-01-07T16:10:41.617872",
     "status": "completed"
    },
    "tags": []
   },
   "outputs": [
    {
     "data": {
      "text/html": [
       "<div>\n",
       "<style scoped>\n",
       "    .dataframe tbody tr th:only-of-type {\n",
       "        vertical-align: middle;\n",
       "    }\n",
       "\n",
       "    .dataframe tbody tr th {\n",
       "        vertical-align: top;\n",
       "    }\n",
       "\n",
       "    .dataframe thead th {\n",
       "        text-align: right;\n",
       "    }\n",
       "</style>\n",
       "<table border=\"1\" class=\"dataframe\">\n",
       "  <thead>\n",
       "    <tr style=\"text-align: right;\">\n",
       "      <th></th>\n",
       "      <th>v1</th>\n",
       "      <th>v2</th>\n",
       "      <th>length</th>\n",
       "    </tr>\n",
       "  </thead>\n",
       "  <tbody>\n",
       "    <tr>\n",
       "      <th>0</th>\n",
       "      <td>ham</td>\n",
       "      <td>Go until jurong point, crazy.. Available only ...</td>\n",
       "      <td>111</td>\n",
       "    </tr>\n",
       "    <tr>\n",
       "      <th>1</th>\n",
       "      <td>ham</td>\n",
       "      <td>Ok lar... Joking wif u oni...</td>\n",
       "      <td>29</td>\n",
       "    </tr>\n",
       "    <tr>\n",
       "      <th>2</th>\n",
       "      <td>spam</td>\n",
       "      <td>Free entry in 2 a wkly comp to win FA Cup fina...</td>\n",
       "      <td>155</td>\n",
       "    </tr>\n",
       "    <tr>\n",
       "      <th>3</th>\n",
       "      <td>ham</td>\n",
       "      <td>U dun say so early hor... U c already then say...</td>\n",
       "      <td>49</td>\n",
       "    </tr>\n",
       "    <tr>\n",
       "      <th>4</th>\n",
       "      <td>ham</td>\n",
       "      <td>Nah I don't think he goes to usf, he lives aro...</td>\n",
       "      <td>61</td>\n",
       "    </tr>\n",
       "  </tbody>\n",
       "</table>\n",
       "</div>"
      ],
      "text/plain": [
       "     v1                                                 v2  length\n",
       "0   ham  Go until jurong point, crazy.. Available only ...     111\n",
       "1   ham                      Ok lar... Joking wif u oni...      29\n",
       "2  spam  Free entry in 2 a wkly comp to win FA Cup fina...     155\n",
       "3   ham  U dun say so early hor... U c already then say...      49\n",
       "4   ham  Nah I don't think he goes to usf, he lives aro...      61"
      ]
     },
     "execution_count": 12,
     "metadata": {},
     "output_type": "execute_result"
    }
   ],
   "source": [
    "df.head()"
   ]
  },
  {
   "cell_type": "code",
   "execution_count": 13,
   "id": "c63b7269",
   "metadata": {
    "execution": {
     "iopub.execute_input": "2022-01-07T16:10:41.819625Z",
     "iopub.status.busy": "2022-01-07T16:10:41.809322Z",
     "iopub.status.idle": "2022-01-07T16:10:41.900544Z",
     "shell.execute_reply": "2022-01-07T16:10:41.899928Z",
     "shell.execute_reply.started": "2022-01-06T15:26:29.879284Z"
    },
    "papermill": {
     "duration": 0.163181,
     "end_time": "2022-01-07T16:10:41.900736",
     "exception": false,
     "start_time": "2022-01-07T16:10:41.737555",
     "status": "completed"
    },
    "tags": []
   },
   "outputs": [],
   "source": [
    "#Calculating Punctuations in each message\n",
    "\n",
    "import string\n",
    "count=0\n",
    "punct=[]\n",
    "#calculating row count \n",
    "for i in range(len(df)):\n",
    "    for j in df['v2'][i]:\n",
    "        if j in string.punctuation:\n",
    "            count+=1\n",
    "    punct.append(count)\n",
    "    count=0"
   ]
  },
  {
   "cell_type": "code",
   "execution_count": 14,
   "id": "d0324bb9",
   "metadata": {
    "execution": {
     "iopub.execute_input": "2022-01-07T16:10:42.015728Z",
     "iopub.status.busy": "2022-01-07T16:10:42.014616Z",
     "iopub.status.idle": "2022-01-07T16:10:42.016852Z",
     "shell.execute_reply": "2022-01-07T16:10:42.017455Z",
     "shell.execute_reply.started": "2022-01-06T15:26:29.9785Z"
    },
    "papermill": {
     "duration": 0.064023,
     "end_time": "2022-01-07T16:10:42.017626",
     "exception": false,
     "start_time": "2022-01-07T16:10:41.953603",
     "status": "completed"
    },
    "tags": []
   },
   "outputs": [],
   "source": [
    "df['Punctuation']=punct"
   ]
  },
  {
   "cell_type": "code",
   "execution_count": 15,
   "id": "4fc1b31d",
   "metadata": {
    "execution": {
     "iopub.execute_input": "2022-01-07T16:10:42.134807Z",
     "iopub.status.busy": "2022-01-07T16:10:42.133886Z",
     "iopub.status.idle": "2022-01-07T16:10:42.137565Z",
     "shell.execute_reply": "2022-01-07T16:10:42.138096Z",
     "shell.execute_reply.started": "2022-01-06T15:26:29.996625Z"
    },
    "papermill": {
     "duration": 0.068397,
     "end_time": "2022-01-07T16:10:42.138269",
     "exception": false,
     "start_time": "2022-01-07T16:10:42.069872",
     "status": "completed"
    },
    "tags": []
   },
   "outputs": [
    {
     "data": {
      "text/html": [
       "<div>\n",
       "<style scoped>\n",
       "    .dataframe tbody tr th:only-of-type {\n",
       "        vertical-align: middle;\n",
       "    }\n",
       "\n",
       "    .dataframe tbody tr th {\n",
       "        vertical-align: top;\n",
       "    }\n",
       "\n",
       "    .dataframe thead th {\n",
       "        text-align: right;\n",
       "    }\n",
       "</style>\n",
       "<table border=\"1\" class=\"dataframe\">\n",
       "  <thead>\n",
       "    <tr style=\"text-align: right;\">\n",
       "      <th></th>\n",
       "      <th>v1</th>\n",
       "      <th>v2</th>\n",
       "      <th>length</th>\n",
       "      <th>Punctuation</th>\n",
       "    </tr>\n",
       "  </thead>\n",
       "  <tbody>\n",
       "    <tr>\n",
       "      <th>0</th>\n",
       "      <td>ham</td>\n",
       "      <td>Go until jurong point, crazy.. Available only ...</td>\n",
       "      <td>111</td>\n",
       "      <td>9</td>\n",
       "    </tr>\n",
       "    <tr>\n",
       "      <th>1</th>\n",
       "      <td>ham</td>\n",
       "      <td>Ok lar... Joking wif u oni...</td>\n",
       "      <td>29</td>\n",
       "      <td>6</td>\n",
       "    </tr>\n",
       "    <tr>\n",
       "      <th>2</th>\n",
       "      <td>spam</td>\n",
       "      <td>Free entry in 2 a wkly comp to win FA Cup fina...</td>\n",
       "      <td>155</td>\n",
       "      <td>6</td>\n",
       "    </tr>\n",
       "    <tr>\n",
       "      <th>3</th>\n",
       "      <td>ham</td>\n",
       "      <td>U dun say so early hor... U c already then say...</td>\n",
       "      <td>49</td>\n",
       "      <td>6</td>\n",
       "    </tr>\n",
       "    <tr>\n",
       "      <th>4</th>\n",
       "      <td>ham</td>\n",
       "      <td>Nah I don't think he goes to usf, he lives aro...</td>\n",
       "      <td>61</td>\n",
       "      <td>2</td>\n",
       "    </tr>\n",
       "  </tbody>\n",
       "</table>\n",
       "</div>"
      ],
      "text/plain": [
       "     v1                                                 v2  length  \\\n",
       "0   ham  Go until jurong point, crazy.. Available only ...     111   \n",
       "1   ham                      Ok lar... Joking wif u oni...      29   \n",
       "2  spam  Free entry in 2 a wkly comp to win FA Cup fina...     155   \n",
       "3   ham  U dun say so early hor... U c already then say...      49   \n",
       "4   ham  Nah I don't think he goes to usf, he lives aro...      61   \n",
       "\n",
       "   Punctuation  \n",
       "0            9  \n",
       "1            6  \n",
       "2            6  \n",
       "3            6  \n",
       "4            2  "
      ]
     },
     "execution_count": 15,
     "metadata": {},
     "output_type": "execute_result"
    }
   ],
   "source": [
    "df.head()"
   ]
  },
  {
   "cell_type": "markdown",
   "id": "c9856ca6",
   "metadata": {
    "papermill": {
     "duration": 0.05298,
     "end_time": "2022-01-07T16:10:42.244890",
     "exception": false,
     "start_time": "2022-01-07T16:10:42.191910",
     "status": "completed"
    },
    "tags": []
   },
   "source": [
    "## 3.1 Text Cleaning"
   ]
  },
  {
   "cell_type": "code",
   "execution_count": 16,
   "id": "9564e6e9",
   "metadata": {
    "execution": {
     "iopub.execute_input": "2022-01-07T16:10:42.357448Z",
     "iopub.status.busy": "2022-01-07T16:10:42.356636Z",
     "iopub.status.idle": "2022-01-07T16:10:43.808132Z",
     "shell.execute_reply": "2022-01-07T16:10:43.807400Z",
     "shell.execute_reply.started": "2022-01-06T15:26:30.010863Z"
    },
    "papermill": {
     "duration": 1.510135,
     "end_time": "2022-01-07T16:10:43.808299",
     "exception": false,
     "start_time": "2022-01-07T16:10:42.298164",
     "status": "completed"
    },
    "tags": []
   },
   "outputs": [],
   "source": [
    "#downloading Regular Expression\n",
    "import re\n",
    "\n",
    "#stopwords\n",
    "from nltk.corpus import stopwords\n",
    "\n",
    "#Lemmatization\n",
    "from nltk.stem import WordNetLemmatizer\n",
    "\n",
    "#Creating Object for Lemmatizer\n",
    "lemmatizer=WordNetLemmatizer()"
   ]
  },
  {
   "cell_type": "code",
   "execution_count": 17,
   "id": "a335ccaf",
   "metadata": {
    "execution": {
     "iopub.execute_input": "2022-01-07T16:10:43.924678Z",
     "iopub.status.busy": "2022-01-07T16:10:43.923841Z",
     "iopub.status.idle": "2022-01-07T16:11:03.340787Z",
     "shell.execute_reply": "2022-01-07T16:11:03.339794Z",
     "shell.execute_reply.started": "2022-01-06T15:26:30.018595Z"
    },
    "papermill": {
     "duration": 19.478706,
     "end_time": "2022-01-07T16:11:03.340982",
     "exception": false,
     "start_time": "2022-01-07T16:10:43.862276",
     "status": "completed"
    },
    "tags": []
   },
   "outputs": [],
   "source": [
    "#Removal of Extra words and Stop words before Lemmatization can be done\n",
    "corpus=[]\n",
    "\n",
    "#now we will run on our dataframe \n",
    "#skipping the 0th index(its of label)\n",
    "for i in range(len(df)):\n",
    "    words=re.sub('[^a-zA-Z]',' ',df['v2'][i])\n",
    "    words=words.lower()\n",
    "    words=words.split()   #converting string to list of words\n",
    "    \n",
    "    #if word is stopword removing it else lemmatizing it\n",
    "    words=[lemmatizer.lemmatize(word) for word in words if word not in set(stopwords.words('english'))]\n",
    "    \n",
    "    #Again join words to form sentences\n",
    "    words = ' '.join(words)\n",
    "\n",
    "    corpus.append (words)\n",
    "   "
   ]
  },
  {
   "cell_type": "code",
   "execution_count": 18,
   "id": "7ec929a1",
   "metadata": {
    "execution": {
     "iopub.execute_input": "2022-01-07T16:11:03.458952Z",
     "iopub.status.busy": "2022-01-07T16:11:03.458131Z",
     "iopub.status.idle": "2022-01-07T16:11:03.461853Z",
     "shell.execute_reply": "2022-01-07T16:11:03.462468Z",
     "shell.execute_reply.started": "2022-01-06T15:26:41.164788Z"
    },
    "papermill": {
     "duration": 0.06627,
     "end_time": "2022-01-07T16:11:03.462637",
     "exception": false,
     "start_time": "2022-01-07T16:11:03.396367",
     "status": "completed"
    },
    "tags": []
   },
   "outputs": [
    {
     "data": {
      "text/plain": [
       "'go jurong point crazy available bugis n great world la e buffet cine got amore wat'"
      ]
     },
     "execution_count": 18,
     "metadata": {},
     "output_type": "execute_result"
    }
   ],
   "source": [
    "corpus[0]"
   ]
  },
  {
   "cell_type": "code",
   "execution_count": 19,
   "id": "8d4ad68f",
   "metadata": {
    "execution": {
     "iopub.execute_input": "2022-01-07T16:11:03.580846Z",
     "iopub.status.busy": "2022-01-07T16:11:03.579714Z",
     "iopub.status.idle": "2022-01-07T16:11:03.582955Z",
     "shell.execute_reply": "2022-01-07T16:11:03.582402Z",
     "shell.execute_reply.started": "2022-01-06T15:26:41.172669Z"
    },
    "papermill": {
     "duration": 0.064169,
     "end_time": "2022-01-07T16:11:03.583098",
     "exception": false,
     "start_time": "2022-01-07T16:11:03.518929",
     "status": "completed"
    },
    "tags": []
   },
   "outputs": [],
   "source": [
    "#now we will replace the messages with new 'removed stopwords,lower messages'\n",
    "df['v2']=corpus"
   ]
  },
  {
   "cell_type": "code",
   "execution_count": 20,
   "id": "d2f280f6",
   "metadata": {
    "execution": {
     "iopub.execute_input": "2022-01-07T16:11:03.707715Z",
     "iopub.status.busy": "2022-01-07T16:11:03.705313Z",
     "iopub.status.idle": "2022-01-07T16:11:03.710494Z",
     "shell.execute_reply": "2022-01-07T16:11:03.709902Z",
     "shell.execute_reply.started": "2022-01-06T15:26:41.183501Z"
    },
    "papermill": {
     "duration": 0.07279,
     "end_time": "2022-01-07T16:11:03.710642",
     "exception": false,
     "start_time": "2022-01-07T16:11:03.637852",
     "status": "completed"
    },
    "tags": []
   },
   "outputs": [
    {
     "data": {
      "text/html": [
       "<div>\n",
       "<style scoped>\n",
       "    .dataframe tbody tr th:only-of-type {\n",
       "        vertical-align: middle;\n",
       "    }\n",
       "\n",
       "    .dataframe tbody tr th {\n",
       "        vertical-align: top;\n",
       "    }\n",
       "\n",
       "    .dataframe thead th {\n",
       "        text-align: right;\n",
       "    }\n",
       "</style>\n",
       "<table border=\"1\" class=\"dataframe\">\n",
       "  <thead>\n",
       "    <tr style=\"text-align: right;\">\n",
       "      <th></th>\n",
       "      <th>v1</th>\n",
       "      <th>v2</th>\n",
       "      <th>length</th>\n",
       "      <th>Punctuation</th>\n",
       "    </tr>\n",
       "  </thead>\n",
       "  <tbody>\n",
       "    <tr>\n",
       "      <th>0</th>\n",
       "      <td>ham</td>\n",
       "      <td>go jurong point crazy available bugis n great ...</td>\n",
       "      <td>111</td>\n",
       "      <td>9</td>\n",
       "    </tr>\n",
       "    <tr>\n",
       "      <th>1</th>\n",
       "      <td>ham</td>\n",
       "      <td>ok lar joking wif u oni</td>\n",
       "      <td>29</td>\n",
       "      <td>6</td>\n",
       "    </tr>\n",
       "    <tr>\n",
       "      <th>2</th>\n",
       "      <td>spam</td>\n",
       "      <td>free entry wkly comp win fa cup final tkts st ...</td>\n",
       "      <td>155</td>\n",
       "      <td>6</td>\n",
       "    </tr>\n",
       "    <tr>\n",
       "      <th>3</th>\n",
       "      <td>ham</td>\n",
       "      <td>u dun say early hor u c already say</td>\n",
       "      <td>49</td>\n",
       "      <td>6</td>\n",
       "    </tr>\n",
       "    <tr>\n",
       "      <th>4</th>\n",
       "      <td>ham</td>\n",
       "      <td>nah think go usf life around though</td>\n",
       "      <td>61</td>\n",
       "      <td>2</td>\n",
       "    </tr>\n",
       "  </tbody>\n",
       "</table>\n",
       "</div>"
      ],
      "text/plain": [
       "     v1                                                 v2  length  \\\n",
       "0   ham  go jurong point crazy available bugis n great ...     111   \n",
       "1   ham                            ok lar joking wif u oni      29   \n",
       "2  spam  free entry wkly comp win fa cup final tkts st ...     155   \n",
       "3   ham                u dun say early hor u c already say      49   \n",
       "4   ham                nah think go usf life around though      61   \n",
       "\n",
       "   Punctuation  \n",
       "0            9  \n",
       "1            6  \n",
       "2            6  \n",
       "3            6  \n",
       "4            2  "
      ]
     },
     "execution_count": 20,
     "metadata": {},
     "output_type": "execute_result"
    }
   ],
   "source": [
    "df.head()"
   ]
  },
  {
   "cell_type": "markdown",
   "id": "ef28fab9",
   "metadata": {
    "papermill": {
     "duration": 0.054521,
     "end_time": "2022-01-07T16:11:03.819986",
     "exception": false,
     "start_time": "2022-01-07T16:11:03.765465",
     "status": "completed"
    },
    "tags": []
   },
   "source": [
    "## 3.2 Analysing the difference between Spam and Ham messages"
   ]
  },
  {
   "cell_type": "code",
   "execution_count": 21,
   "id": "5200966f",
   "metadata": {
    "execution": {
     "iopub.execute_input": "2022-01-07T16:11:03.937457Z",
     "iopub.status.busy": "2022-01-07T16:11:03.936415Z",
     "iopub.status.idle": "2022-01-07T16:11:03.942640Z",
     "shell.execute_reply": "2022-01-07T16:11:03.942056Z",
     "shell.execute_reply.started": "2022-01-06T15:26:41.197615Z"
    },
    "papermill": {
     "duration": 0.067627,
     "end_time": "2022-01-07T16:11:03.942787",
     "exception": false,
     "start_time": "2022-01-07T16:11:03.875160",
     "status": "completed"
    },
    "tags": []
   },
   "outputs": [],
   "source": [
    "spam_messages=df[df['v1']=='spam']\n",
    "ham_messages=df[df['v1']=='ham']"
   ]
  },
  {
   "cell_type": "code",
   "execution_count": 22,
   "id": "cc1c41f5",
   "metadata": {
    "execution": {
     "iopub.execute_input": "2022-01-07T16:11:04.066094Z",
     "iopub.status.busy": "2022-01-07T16:11:04.064962Z",
     "iopub.status.idle": "2022-01-07T16:11:04.068911Z",
     "shell.execute_reply": "2022-01-07T16:11:04.069511Z",
     "shell.execute_reply.started": "2022-01-06T15:26:41.209109Z"
    },
    "papermill": {
     "duration": 0.07104,
     "end_time": "2022-01-07T16:11:04.069708",
     "exception": false,
     "start_time": "2022-01-07T16:11:03.998668",
     "status": "completed"
    },
    "tags": []
   },
   "outputs": [
    {
     "data": {
      "text/html": [
       "<div>\n",
       "<style scoped>\n",
       "    .dataframe tbody tr th:only-of-type {\n",
       "        vertical-align: middle;\n",
       "    }\n",
       "\n",
       "    .dataframe tbody tr th {\n",
       "        vertical-align: top;\n",
       "    }\n",
       "\n",
       "    .dataframe thead th {\n",
       "        text-align: right;\n",
       "    }\n",
       "</style>\n",
       "<table border=\"1\" class=\"dataframe\">\n",
       "  <thead>\n",
       "    <tr style=\"text-align: right;\">\n",
       "      <th></th>\n",
       "      <th>v1</th>\n",
       "      <th>v2</th>\n",
       "      <th>length</th>\n",
       "      <th>Punctuation</th>\n",
       "    </tr>\n",
       "  </thead>\n",
       "  <tbody>\n",
       "    <tr>\n",
       "      <th>2</th>\n",
       "      <td>spam</td>\n",
       "      <td>free entry wkly comp win fa cup final tkts st ...</td>\n",
       "      <td>155</td>\n",
       "      <td>6</td>\n",
       "    </tr>\n",
       "    <tr>\n",
       "      <th>5</th>\n",
       "      <td>spam</td>\n",
       "      <td>freemsg hey darling week word back like fun st...</td>\n",
       "      <td>148</td>\n",
       "      <td>8</td>\n",
       "    </tr>\n",
       "    <tr>\n",
       "      <th>8</th>\n",
       "      <td>spam</td>\n",
       "      <td>winner valued network customer selected receiv...</td>\n",
       "      <td>158</td>\n",
       "      <td>6</td>\n",
       "    </tr>\n",
       "    <tr>\n",
       "      <th>9</th>\n",
       "      <td>spam</td>\n",
       "      <td>mobile month u r entitled update latest colour...</td>\n",
       "      <td>154</td>\n",
       "      <td>2</td>\n",
       "    </tr>\n",
       "    <tr>\n",
       "      <th>11</th>\n",
       "      <td>spam</td>\n",
       "      <td>six chance win cash pound txt csh send cost p ...</td>\n",
       "      <td>136</td>\n",
       "      <td>8</td>\n",
       "    </tr>\n",
       "  </tbody>\n",
       "</table>\n",
       "</div>"
      ],
      "text/plain": [
       "      v1                                                 v2  length  \\\n",
       "2   spam  free entry wkly comp win fa cup final tkts st ...     155   \n",
       "5   spam  freemsg hey darling week word back like fun st...     148   \n",
       "8   spam  winner valued network customer selected receiv...     158   \n",
       "9   spam  mobile month u r entitled update latest colour...     154   \n",
       "11  spam  six chance win cash pound txt csh send cost p ...     136   \n",
       "\n",
       "    Punctuation  \n",
       "2             6  \n",
       "5             8  \n",
       "8             6  \n",
       "9             2  \n",
       "11            8  "
      ]
     },
     "execution_count": 22,
     "metadata": {},
     "output_type": "execute_result"
    }
   ],
   "source": [
    "spam_messages.head()"
   ]
  },
  {
   "cell_type": "code",
   "execution_count": 23,
   "id": "c176150e",
   "metadata": {
    "execution": {
     "iopub.execute_input": "2022-01-07T16:11:04.194209Z",
     "iopub.status.busy": "2022-01-07T16:11:04.193352Z",
     "iopub.status.idle": "2022-01-07T16:11:04.200416Z",
     "shell.execute_reply": "2022-01-07T16:11:04.199854Z",
     "shell.execute_reply.started": "2022-01-06T15:26:41.22249Z"
    },
    "papermill": {
     "duration": 0.074072,
     "end_time": "2022-01-07T16:11:04.200566",
     "exception": false,
     "start_time": "2022-01-07T16:11:04.126494",
     "status": "completed"
    },
    "tags": []
   },
   "outputs": [
    {
     "data": {
      "text/html": [
       "<div>\n",
       "<style scoped>\n",
       "    .dataframe tbody tr th:only-of-type {\n",
       "        vertical-align: middle;\n",
       "    }\n",
       "\n",
       "    .dataframe tbody tr th {\n",
       "        vertical-align: top;\n",
       "    }\n",
       "\n",
       "    .dataframe thead th {\n",
       "        text-align: right;\n",
       "    }\n",
       "</style>\n",
       "<table border=\"1\" class=\"dataframe\">\n",
       "  <thead>\n",
       "    <tr style=\"text-align: right;\">\n",
       "      <th></th>\n",
       "      <th>v1</th>\n",
       "      <th>v2</th>\n",
       "      <th>length</th>\n",
       "      <th>Punctuation</th>\n",
       "    </tr>\n",
       "  </thead>\n",
       "  <tbody>\n",
       "    <tr>\n",
       "      <th>0</th>\n",
       "      <td>ham</td>\n",
       "      <td>go jurong point crazy available bugis n great ...</td>\n",
       "      <td>111</td>\n",
       "      <td>9</td>\n",
       "    </tr>\n",
       "    <tr>\n",
       "      <th>1</th>\n",
       "      <td>ham</td>\n",
       "      <td>ok lar joking wif u oni</td>\n",
       "      <td>29</td>\n",
       "      <td>6</td>\n",
       "    </tr>\n",
       "    <tr>\n",
       "      <th>3</th>\n",
       "      <td>ham</td>\n",
       "      <td>u dun say early hor u c already say</td>\n",
       "      <td>49</td>\n",
       "      <td>6</td>\n",
       "    </tr>\n",
       "    <tr>\n",
       "      <th>4</th>\n",
       "      <td>ham</td>\n",
       "      <td>nah think go usf life around though</td>\n",
       "      <td>61</td>\n",
       "      <td>2</td>\n",
       "    </tr>\n",
       "    <tr>\n",
       "      <th>6</th>\n",
       "      <td>ham</td>\n",
       "      <td>even brother like speak treat like aid patent</td>\n",
       "      <td>77</td>\n",
       "      <td>2</td>\n",
       "    </tr>\n",
       "  </tbody>\n",
       "</table>\n",
       "</div>"
      ],
      "text/plain": [
       "    v1                                                 v2  length  Punctuation\n",
       "0  ham  go jurong point crazy available bugis n great ...     111            9\n",
       "1  ham                            ok lar joking wif u oni      29            6\n",
       "3  ham                u dun say early hor u c already say      49            6\n",
       "4  ham                nah think go usf life around though      61            2\n",
       "6  ham      even brother like speak treat like aid patent      77            2"
      ]
     },
     "execution_count": 23,
     "metadata": {},
     "output_type": "execute_result"
    }
   ],
   "source": [
    "ham_messages.head()"
   ]
  },
  {
   "cell_type": "code",
   "execution_count": 24,
   "id": "6cba7172",
   "metadata": {
    "execution": {
     "iopub.execute_input": "2022-01-07T16:11:04.321950Z",
     "iopub.status.busy": "2022-01-07T16:11:04.321043Z",
     "iopub.status.idle": "2022-01-07T16:11:04.324638Z",
     "shell.execute_reply": "2022-01-07T16:11:04.325157Z",
     "shell.execute_reply.started": "2022-01-06T15:26:41.236071Z"
    },
    "papermill": {
     "duration": 0.067422,
     "end_time": "2022-01-07T16:11:04.325318",
     "exception": false,
     "start_time": "2022-01-07T16:11:04.257896",
     "status": "completed"
    },
    "tags": []
   },
   "outputs": [
    {
     "data": {
      "text/plain": [
       "5.714859437751004"
      ]
     },
     "execution_count": 24,
     "metadata": {},
     "output_type": "execute_result"
    }
   ],
   "source": [
    "spam_messages['Punctuation'].mean()"
   ]
  },
  {
   "cell_type": "code",
   "execution_count": 25,
   "id": "4c4494f6",
   "metadata": {
    "execution": {
     "iopub.execute_input": "2022-01-07T16:11:04.447257Z",
     "iopub.status.busy": "2022-01-07T16:11:04.446143Z",
     "iopub.status.idle": "2022-01-07T16:11:04.452013Z",
     "shell.execute_reply": "2022-01-07T16:11:04.451431Z",
     "shell.execute_reply.started": "2022-01-06T15:26:41.246055Z"
    },
    "papermill": {
     "duration": 0.069584,
     "end_time": "2022-01-07T16:11:04.452152",
     "exception": false,
     "start_time": "2022-01-07T16:11:04.382568",
     "status": "completed"
    },
    "tags": []
   },
   "outputs": [
    {
     "data": {
      "text/plain": [
       "138.8661311914324"
      ]
     },
     "execution_count": 25,
     "metadata": {},
     "output_type": "execute_result"
    }
   ],
   "source": [
    "spam_messages['length'].mean()"
   ]
  },
  {
   "cell_type": "code",
   "execution_count": 26,
   "id": "dbdfe4e7",
   "metadata": {
    "execution": {
     "iopub.execute_input": "2022-01-07T16:11:04.575390Z",
     "iopub.status.busy": "2022-01-07T16:11:04.574230Z",
     "iopub.status.idle": "2022-01-07T16:11:04.579901Z",
     "shell.execute_reply": "2022-01-07T16:11:04.579234Z",
     "shell.execute_reply.started": "2022-01-06T15:26:41.254933Z"
    },
    "papermill": {
     "duration": 0.070174,
     "end_time": "2022-01-07T16:11:04.580048",
     "exception": false,
     "start_time": "2022-01-07T16:11:04.509874",
     "status": "completed"
    },
    "tags": []
   },
   "outputs": [
    {
     "data": {
      "text/plain": [
       "3.9745077720207256"
      ]
     },
     "execution_count": 26,
     "metadata": {},
     "output_type": "execute_result"
    }
   ],
   "source": [
    "ham_messages['Punctuation'].mean()"
   ]
  },
  {
   "cell_type": "code",
   "execution_count": 27,
   "id": "ff209c66",
   "metadata": {
    "execution": {
     "iopub.execute_input": "2022-01-07T16:11:04.702747Z",
     "iopub.status.busy": "2022-01-07T16:11:04.701782Z",
     "iopub.status.idle": "2022-01-07T16:11:04.705493Z",
     "shell.execute_reply": "2022-01-07T16:11:04.706021Z",
     "shell.execute_reply.started": "2022-01-06T15:26:41.263504Z"
    },
    "papermill": {
     "duration": 0.06808,
     "end_time": "2022-01-07T16:11:04.706197",
     "exception": false,
     "start_time": "2022-01-07T16:11:04.638117",
     "status": "completed"
    },
    "tags": []
   },
   "outputs": [
    {
     "data": {
      "text/plain": [
       "71.02362694300518"
      ]
     },
     "execution_count": 27,
     "metadata": {},
     "output_type": "execute_result"
    }
   ],
   "source": [
    "ham_messages['length'].mean()"
   ]
  },
  {
   "cell_type": "markdown",
   "id": "1cc0e1dd",
   "metadata": {
    "papermill": {
     "duration": 0.057767,
     "end_time": "2022-01-07T16:11:04.822746",
     "exception": false,
     "start_time": "2022-01-07T16:11:04.764979",
     "status": "completed"
    },
    "tags": []
   },
   "source": [
    "## Model training & Building"
   ]
  },
  {
   "cell_type": "code",
   "execution_count": 28,
   "id": "a9a2bece",
   "metadata": {
    "execution": {
     "iopub.execute_input": "2022-01-07T16:11:04.946238Z",
     "iopub.status.busy": "2022-01-07T16:11:04.945129Z",
     "iopub.status.idle": "2022-01-07T16:11:04.947614Z",
     "shell.execute_reply": "2022-01-07T16:11:04.948147Z",
     "shell.execute_reply.started": "2022-01-06T15:26:41.274421Z"
    },
    "papermill": {
     "duration": 0.066258,
     "end_time": "2022-01-07T16:11:04.948302",
     "exception": false,
     "start_time": "2022-01-07T16:11:04.882044",
     "status": "completed"
    },
    "tags": []
   },
   "outputs": [],
   "source": [
    "X=df['v2']"
   ]
  },
  {
   "cell_type": "code",
   "execution_count": 29,
   "id": "4a6beb19",
   "metadata": {
    "execution": {
     "iopub.execute_input": "2022-01-07T16:11:05.074724Z",
     "iopub.status.busy": "2022-01-07T16:11:05.073825Z",
     "iopub.status.idle": "2022-01-07T16:11:05.077617Z",
     "shell.execute_reply": "2022-01-07T16:11:05.078195Z",
     "shell.execute_reply.started": "2022-01-06T15:26:41.279726Z"
    },
    "papermill": {
     "duration": 0.071609,
     "end_time": "2022-01-07T16:11:05.078360",
     "exception": false,
     "start_time": "2022-01-07T16:11:05.006751",
     "status": "completed"
    },
    "tags": []
   },
   "outputs": [
    {
     "data": {
      "text/plain": [
       "0    go jurong point crazy available bugis n great ...\n",
       "1                              ok lar joking wif u oni\n",
       "2    free entry wkly comp win fa cup final tkts st ...\n",
       "3                  u dun say early hor u c already say\n",
       "4                  nah think go usf life around though\n",
       "Name: v2, dtype: object"
      ]
     },
     "execution_count": 29,
     "metadata": {},
     "output_type": "execute_result"
    }
   ],
   "source": [
    "X.head()"
   ]
  },
  {
   "cell_type": "code",
   "execution_count": 30,
   "id": "707b7bb2",
   "metadata": {
    "execution": {
     "iopub.execute_input": "2022-01-07T16:11:05.203847Z",
     "iopub.status.busy": "2022-01-07T16:11:05.202703Z",
     "iopub.status.idle": "2022-01-07T16:11:05.204984Z",
     "shell.execute_reply": "2022-01-07T16:11:05.205643Z",
     "shell.execute_reply.started": "2022-01-06T15:26:41.290704Z"
    },
    "papermill": {
     "duration": 0.068444,
     "end_time": "2022-01-07T16:11:05.205827",
     "exception": false,
     "start_time": "2022-01-07T16:11:05.137383",
     "status": "completed"
    },
    "tags": []
   },
   "outputs": [],
   "source": [
    "y=df['v1']"
   ]
  },
  {
   "cell_type": "code",
   "execution_count": 31,
   "id": "1aeb8994",
   "metadata": {
    "execution": {
     "iopub.execute_input": "2022-01-07T16:11:05.329758Z",
     "iopub.status.busy": "2022-01-07T16:11:05.328684Z",
     "iopub.status.idle": "2022-01-07T16:11:05.337014Z",
     "shell.execute_reply": "2022-01-07T16:11:05.336465Z",
     "shell.execute_reply.started": "2022-01-06T15:26:41.30063Z"
    },
    "papermill": {
     "duration": 0.071769,
     "end_time": "2022-01-07T16:11:05.337174",
     "exception": false,
     "start_time": "2022-01-07T16:11:05.265405",
     "status": "completed"
    },
    "tags": []
   },
   "outputs": [
    {
     "data": {
      "text/plain": [
       "0     ham\n",
       "1     ham\n",
       "2    spam\n",
       "3     ham\n",
       "4     ham\n",
       "Name: v1, dtype: object"
      ]
     },
     "execution_count": 31,
     "metadata": {},
     "output_type": "execute_result"
    }
   ],
   "source": [
    "y.head()"
   ]
  },
  {
   "cell_type": "markdown",
   "id": "2c85cefd",
   "metadata": {
    "papermill": {
     "duration": 0.059871,
     "end_time": "2022-01-07T16:11:05.456913",
     "exception": false,
     "start_time": "2022-01-07T16:11:05.397042",
     "status": "completed"
    },
    "tags": []
   },
   "source": [
    "## 4.1 Train Test Split"
   ]
  },
  {
   "cell_type": "code",
   "execution_count": 32,
   "id": "99717f3e",
   "metadata": {
    "execution": {
     "iopub.execute_input": "2022-01-07T16:11:05.585217Z",
     "iopub.status.busy": "2022-01-07T16:11:05.582892Z",
     "iopub.status.idle": "2022-01-07T16:11:05.586017Z",
     "shell.execute_reply": "2022-01-07T16:11:05.586592Z",
     "shell.execute_reply.started": "2022-01-06T15:26:41.311075Z"
    },
    "papermill": {
     "duration": 0.069438,
     "end_time": "2022-01-07T16:11:05.586785",
     "exception": false,
     "start_time": "2022-01-07T16:11:05.517347",
     "status": "completed"
    },
    "tags": []
   },
   "outputs": [],
   "source": [
    "from sklearn.model_selection import train_test_split"
   ]
  },
  {
   "cell_type": "code",
   "execution_count": 33,
   "id": "5ed6c81e",
   "metadata": {
    "execution": {
     "iopub.execute_input": "2022-01-07T16:11:05.715594Z",
     "iopub.status.busy": "2022-01-07T16:11:05.713861Z",
     "iopub.status.idle": "2022-01-07T16:11:05.720347Z",
     "shell.execute_reply": "2022-01-07T16:11:05.719461Z",
     "shell.execute_reply.started": "2022-01-06T15:26:41.318957Z"
    },
    "papermill": {
     "duration": 0.074646,
     "end_time": "2022-01-07T16:11:05.720511",
     "exception": false,
     "start_time": "2022-01-07T16:11:05.645865",
     "status": "completed"
    },
    "tags": []
   },
   "outputs": [],
   "source": [
    "X_train,X_test,y_train,y_test=train_test_split(X,y,test_size=.2,random_state=42)"
   ]
  },
  {
   "cell_type": "markdown",
   "id": "a357c17c",
   "metadata": {
    "papermill": {
     "duration": 0.059389,
     "end_time": "2022-01-07T16:11:05.839412",
     "exception": false,
     "start_time": "2022-01-07T16:11:05.780023",
     "status": "completed"
    },
    "tags": []
   },
   "source": [
    "## 4.2 Dealing with Text (Natural Language data) data"
   ]
  },
  {
   "cell_type": "code",
   "execution_count": 34,
   "id": "b31fad20",
   "metadata": {
    "execution": {
     "iopub.execute_input": "2022-01-07T16:11:05.965764Z",
     "iopub.status.busy": "2022-01-07T16:11:05.964633Z",
     "iopub.status.idle": "2022-01-07T16:11:05.967109Z",
     "shell.execute_reply": "2022-01-07T16:11:05.967830Z",
     "shell.execute_reply.started": "2022-01-06T15:26:41.3292Z"
    },
    "papermill": {
     "duration": 0.068456,
     "end_time": "2022-01-07T16:11:05.968016",
     "exception": false,
     "start_time": "2022-01-07T16:11:05.899560",
     "status": "completed"
    },
    "tags": []
   },
   "outputs": [],
   "source": [
    "from sklearn.feature_extraction.text import TfidfVectorizer\n",
    "tfidf=TfidfVectorizer()"
   ]
  },
  {
   "cell_type": "code",
   "execution_count": 35,
   "id": "6e0c9420",
   "metadata": {
    "execution": {
     "iopub.execute_input": "2022-01-07T16:11:06.092248Z",
     "iopub.status.busy": "2022-01-07T16:11:06.091109Z",
     "iopub.status.idle": "2022-01-07T16:11:06.093445Z",
     "shell.execute_reply": "2022-01-07T16:11:06.094107Z",
     "shell.execute_reply.started": "2022-01-06T15:26:41.337166Z"
    },
    "papermill": {
     "duration": 0.067585,
     "end_time": "2022-01-07T16:11:06.094282",
     "exception": false,
     "start_time": "2022-01-07T16:11:06.026697",
     "status": "completed"
    },
    "tags": []
   },
   "outputs": [],
   "source": [
    "from sklearn.feature_extraction.text import CountVectorizer "
   ]
  },
  {
   "cell_type": "code",
   "execution_count": 36,
   "id": "4bf27615",
   "metadata": {
    "execution": {
     "iopub.execute_input": "2022-01-07T16:11:06.220738Z",
     "iopub.status.busy": "2022-01-07T16:11:06.219501Z",
     "iopub.status.idle": "2022-01-07T16:11:06.222102Z",
     "shell.execute_reply": "2022-01-07T16:11:06.222688Z",
     "shell.execute_reply.started": "2022-01-06T15:26:41.345564Z"
    },
    "papermill": {
     "duration": 0.06902,
     "end_time": "2022-01-07T16:11:06.222858",
     "exception": false,
     "start_time": "2022-01-07T16:11:06.153838",
     "status": "completed"
    },
    "tags": []
   },
   "outputs": [],
   "source": [
    "cv=CountVectorizer(max_features=5772)         #countvectorizer is the library which helps in creating BOW. cv is the object"
   ]
  },
  {
   "cell_type": "code",
   "execution_count": 37,
   "id": "28397621",
   "metadata": {
    "execution": {
     "iopub.execute_input": "2022-01-07T16:11:06.403444Z",
     "iopub.status.busy": "2022-01-07T16:11:06.382903Z",
     "iopub.status.idle": "2022-01-07T16:11:06.489962Z",
     "shell.execute_reply": "2022-01-07T16:11:06.489311Z",
     "shell.execute_reply.started": "2022-01-06T15:26:41.356582Z"
    },
    "papermill": {
     "duration": 0.207586,
     "end_time": "2022-01-07T16:11:06.490144",
     "exception": false,
     "start_time": "2022-01-07T16:11:06.282558",
     "status": "completed"
    },
    "tags": []
   },
   "outputs": [],
   "source": [
    "X_train_tfidf_vect=cv.fit_transform(X_train).toarray()"
   ]
  },
  {
   "cell_type": "code",
   "execution_count": 38,
   "id": "0000411f",
   "metadata": {
    "execution": {
     "iopub.execute_input": "2022-01-07T16:11:06.618083Z",
     "iopub.status.busy": "2022-01-07T16:11:06.617334Z",
     "iopub.status.idle": "2022-01-07T16:11:06.624003Z",
     "shell.execute_reply": "2022-01-07T16:11:06.623401Z",
     "shell.execute_reply.started": "2022-01-06T15:26:41.476286Z"
    },
    "papermill": {
     "duration": 0.072961,
     "end_time": "2022-01-07T16:11:06.624154",
     "exception": false,
     "start_time": "2022-01-07T16:11:06.551193",
     "status": "completed"
    },
    "tags": []
   },
   "outputs": [
    {
     "data": {
      "text/plain": [
       "array([[0, 0, 0, ..., 0, 0, 0],\n",
       "       [0, 0, 0, ..., 0, 0, 0],\n",
       "       [0, 0, 0, ..., 0, 0, 0],\n",
       "       ...,\n",
       "       [0, 0, 0, ..., 0, 0, 0],\n",
       "       [0, 0, 0, ..., 0, 0, 0],\n",
       "       [0, 0, 0, ..., 0, 0, 0]])"
      ]
     },
     "execution_count": 38,
     "metadata": {},
     "output_type": "execute_result"
    }
   ],
   "source": [
    "X_train_tfidf_vect"
   ]
  },
  {
   "cell_type": "code",
   "execution_count": 39,
   "id": "5f852cd6",
   "metadata": {
    "execution": {
     "iopub.execute_input": "2022-01-07T16:11:06.752931Z",
     "iopub.status.busy": "2022-01-07T16:11:06.751965Z",
     "iopub.status.idle": "2022-01-07T16:11:06.755766Z",
     "shell.execute_reply": "2022-01-07T16:11:06.756319Z",
     "shell.execute_reply.started": "2022-01-06T15:26:41.485401Z"
    },
    "papermill": {
     "duration": 0.071204,
     "end_time": "2022-01-07T16:11:06.756527",
     "exception": false,
     "start_time": "2022-01-07T16:11:06.685323",
     "status": "completed"
    },
    "tags": []
   },
   "outputs": [
    {
     "data": {
      "text/plain": [
       "(4457, 5772)"
      ]
     },
     "execution_count": 39,
     "metadata": {},
     "output_type": "execute_result"
    }
   ],
   "source": [
    "X_train_tfidf_vect.shape"
   ]
  },
  {
   "cell_type": "markdown",
   "id": "e127954b",
   "metadata": {
    "papermill": {
     "duration": 0.060615,
     "end_time": "2022-01-07T16:11:06.877553",
     "exception": false,
     "start_time": "2022-01-07T16:11:06.816938",
     "status": "completed"
    },
    "tags": []
   },
   "source": [
    "## Multinomial Naive Bayes Classifier"
   ]
  },
  {
   "cell_type": "code",
   "execution_count": 40,
   "id": "93ff2df0",
   "metadata": {
    "execution": {
     "iopub.execute_input": "2022-01-07T16:11:07.004830Z",
     "iopub.status.busy": "2022-01-07T16:11:07.003919Z",
     "iopub.status.idle": "2022-01-07T16:11:07.010260Z",
     "shell.execute_reply": "2022-01-07T16:11:07.009722Z",
     "shell.execute_reply.started": "2022-01-06T15:26:41.494227Z"
    },
    "papermill": {
     "duration": 0.071863,
     "end_time": "2022-01-07T16:11:07.010450",
     "exception": false,
     "start_time": "2022-01-07T16:11:06.938587",
     "status": "completed"
    },
    "tags": []
   },
   "outputs": [],
   "source": [
    "from sklearn.naive_bayes import MultinomialNB"
   ]
  },
  {
   "cell_type": "code",
   "execution_count": 41,
   "id": "59c69ff3",
   "metadata": {
    "execution": {
     "iopub.execute_input": "2022-01-07T16:11:07.133836Z",
     "iopub.status.busy": "2022-01-07T16:11:07.132969Z",
     "iopub.status.idle": "2022-01-07T16:11:07.138908Z",
     "shell.execute_reply": "2022-01-07T16:11:07.138298Z",
     "shell.execute_reply.started": "2022-01-06T15:26:41.500698Z"
    },
    "papermill": {
     "duration": 0.069734,
     "end_time": "2022-01-07T16:11:07.139058",
     "exception": false,
     "start_time": "2022-01-07T16:11:07.069324",
     "status": "completed"
    },
    "tags": []
   },
   "outputs": [],
   "source": [
    "from sklearn.pipeline import Pipeline\n"
   ]
  },
  {
   "cell_type": "code",
   "execution_count": 42,
   "id": "05cc4b75",
   "metadata": {
    "execution": {
     "iopub.execute_input": "2022-01-07T16:11:07.261688Z",
     "iopub.status.busy": "2022-01-07T16:11:07.260616Z",
     "iopub.status.idle": "2022-01-07T16:11:07.266325Z",
     "shell.execute_reply": "2022-01-07T16:11:07.265773Z",
     "shell.execute_reply.started": "2022-01-06T15:35:55.131796Z"
    },
    "papermill": {
     "duration": 0.068337,
     "end_time": "2022-01-07T16:11:07.266512",
     "exception": false,
     "start_time": "2022-01-07T16:11:07.198175",
     "status": "completed"
    },
    "tags": []
   },
   "outputs": [],
   "source": [
    "text_mnb=Pipeline([('tfidf',TfidfVectorizer()),('mnb',MultinomialNB())])"
   ]
  },
  {
   "cell_type": "code",
   "execution_count": 43,
   "id": "94cc3343",
   "metadata": {
    "execution": {
     "iopub.execute_input": "2022-01-07T16:11:07.414200Z",
     "iopub.status.busy": "2022-01-07T16:11:07.403952Z",
     "iopub.status.idle": "2022-01-07T16:11:07.499463Z",
     "shell.execute_reply": "2022-01-07T16:11:07.498895Z",
     "shell.execute_reply.started": "2022-01-06T15:35:56.358682Z"
    },
    "papermill": {
     "duration": 0.174153,
     "end_time": "2022-01-07T16:11:07.499626",
     "exception": false,
     "start_time": "2022-01-07T16:11:07.325473",
     "status": "completed"
    },
    "tags": []
   },
   "outputs": [
    {
     "data": {
      "text/plain": [
       "Pipeline(steps=[('tfidf', TfidfVectorizer()), ('mnb', MultinomialNB())])"
      ]
     },
     "execution_count": 43,
     "metadata": {},
     "output_type": "execute_result"
    }
   ],
   "source": [
    "text_mnb.fit(X_train,y_train)"
   ]
  },
  {
   "cell_type": "code",
   "execution_count": 44,
   "id": "b1fb1c69",
   "metadata": {
    "execution": {
     "iopub.execute_input": "2022-01-07T16:11:07.640791Z",
     "iopub.status.busy": "2022-01-07T16:11:07.622647Z",
     "iopub.status.idle": "2022-01-07T16:11:07.646217Z",
     "shell.execute_reply": "2022-01-07T16:11:07.645250Z",
     "shell.execute_reply.started": "2022-01-06T15:38:03.080142Z"
    },
    "papermill": {
     "duration": 0.086914,
     "end_time": "2022-01-07T16:11:07.646392",
     "exception": false,
     "start_time": "2022-01-07T16:11:07.559478",
     "status": "completed"
    },
    "tags": []
   },
   "outputs": [],
   "source": [
    "y_preds_mnb=text_mnb.predict(X_test)"
   ]
  },
  {
   "cell_type": "code",
   "execution_count": 45,
   "id": "05e3da7e",
   "metadata": {
    "execution": {
     "iopub.execute_input": "2022-01-07T16:11:07.778140Z",
     "iopub.status.busy": "2022-01-07T16:11:07.777227Z",
     "iopub.status.idle": "2022-01-07T16:11:07.784928Z",
     "shell.execute_reply": "2022-01-07T16:11:07.785537Z",
     "shell.execute_reply.started": "2022-01-06T15:38:12.020275Z"
    },
    "papermill": {
     "duration": 0.080492,
     "end_time": "2022-01-07T16:11:07.785720",
     "exception": false,
     "start_time": "2022-01-07T16:11:07.705228",
     "status": "completed"
    },
    "tags": []
   },
   "outputs": [
    {
     "data": {
      "text/plain": [
       "array(['ham', 'ham', 'ham', ..., 'ham', 'ham', 'spam'], dtype='<U4')"
      ]
     },
     "execution_count": 45,
     "metadata": {},
     "output_type": "execute_result"
    }
   ],
   "source": [
    "y_preds_mnb"
   ]
  },
  {
   "cell_type": "code",
   "execution_count": 46,
   "id": "d44ccc70",
   "metadata": {
    "execution": {
     "iopub.execute_input": "2022-01-07T16:11:07.977997Z",
     "iopub.status.busy": "2022-01-07T16:11:07.958079Z",
     "iopub.status.idle": "2022-01-07T16:11:07.999287Z",
     "shell.execute_reply": "2022-01-07T16:11:07.998611Z",
     "shell.execute_reply.started": "2022-01-06T15:40:28.442679Z"
    },
    "papermill": {
     "duration": 0.150937,
     "end_time": "2022-01-07T16:11:07.999497",
     "exception": false,
     "start_time": "2022-01-07T16:11:07.848560",
     "status": "completed"
    },
    "tags": []
   },
   "outputs": [
    {
     "data": {
      "text/plain": [
       "0.979582678932017"
      ]
     },
     "execution_count": 46,
     "metadata": {},
     "output_type": "execute_result"
    }
   ],
   "source": [
    "text_mnb.score(X_train,y_train)"
   ]
  },
  {
   "cell_type": "code",
   "execution_count": 47,
   "id": "919ef5ce",
   "metadata": {
    "execution": {
     "iopub.execute_input": "2022-01-07T16:11:08.140939Z",
     "iopub.status.busy": "2022-01-07T16:11:08.122558Z",
     "iopub.status.idle": "2022-01-07T16:11:08.150968Z",
     "shell.execute_reply": "2022-01-07T16:11:08.150193Z",
     "shell.execute_reply.started": "2022-01-06T15:40:41.509602Z"
    },
    "papermill": {
     "duration": 0.092029,
     "end_time": "2022-01-07T16:11:08.151126",
     "exception": false,
     "start_time": "2022-01-07T16:11:08.059097",
     "status": "completed"
    },
    "tags": []
   },
   "outputs": [
    {
     "data": {
      "text/plain": [
       "0.9632286995515695"
      ]
     },
     "execution_count": 47,
     "metadata": {},
     "output_type": "execute_result"
    }
   ],
   "source": [
    "text_mnb.score(X_test,y_test)"
   ]
  },
  {
   "cell_type": "markdown",
   "id": "df1d2ca4",
   "metadata": {
    "papermill": {
     "duration": 0.059811,
     "end_time": "2022-01-07T16:11:08.271079",
     "exception": false,
     "start_time": "2022-01-07T16:11:08.211268",
     "status": "completed"
    },
    "tags": []
   },
   "source": [
    "## Classification Report"
   ]
  },
  {
   "cell_type": "code",
   "execution_count": 48,
   "id": "abf6e1b2",
   "metadata": {
    "execution": {
     "iopub.execute_input": "2022-01-07T16:11:08.398392Z",
     "iopub.status.busy": "2022-01-07T16:11:08.397290Z",
     "iopub.status.idle": "2022-01-07T16:11:08.399727Z",
     "shell.execute_reply": "2022-01-07T16:11:08.400270Z",
     "shell.execute_reply.started": "2022-01-06T15:42:18.115672Z"
    },
    "papermill": {
     "duration": 0.068512,
     "end_time": "2022-01-07T16:11:08.400475",
     "exception": false,
     "start_time": "2022-01-07T16:11:08.331963",
     "status": "completed"
    },
    "tags": []
   },
   "outputs": [],
   "source": [
    "from sklearn.metrics import confusion_matrix"
   ]
  },
  {
   "cell_type": "code",
   "execution_count": 49,
   "id": "9fa18612",
   "metadata": {
    "execution": {
     "iopub.execute_input": "2022-01-07T16:11:08.526967Z",
     "iopub.status.busy": "2022-01-07T16:11:08.525876Z",
     "iopub.status.idle": "2022-01-07T16:11:08.539053Z",
     "shell.execute_reply": "2022-01-07T16:11:08.538219Z",
     "shell.execute_reply.started": "2022-01-06T15:42:37.476479Z"
    },
    "papermill": {
     "duration": 0.078981,
     "end_time": "2022-01-07T16:11:08.539283",
     "exception": false,
     "start_time": "2022-01-07T16:11:08.460302",
     "status": "completed"
    },
    "tags": []
   },
   "outputs": [
    {
     "name": "stdout",
     "output_type": "stream",
     "text": [
      "[[965   0]\n",
      " [ 41 109]]\n"
     ]
    }
   ],
   "source": [
    "print(confusion_matrix(y_test,y_preds_mnb))"
   ]
  },
  {
   "cell_type": "code",
   "execution_count": 50,
   "id": "3e2620d8",
   "metadata": {
    "execution": {
     "iopub.execute_input": "2022-01-07T16:11:08.667455Z",
     "iopub.status.busy": "2022-01-07T16:11:08.666331Z",
     "iopub.status.idle": "2022-01-07T16:11:08.668588Z",
     "shell.execute_reply": "2022-01-07T16:11:08.669216Z",
     "shell.execute_reply.started": "2022-01-06T15:43:20.44993Z"
    },
    "papermill": {
     "duration": 0.068,
     "end_time": "2022-01-07T16:11:08.669438",
     "exception": false,
     "start_time": "2022-01-07T16:11:08.601438",
     "status": "completed"
    },
    "tags": []
   },
   "outputs": [],
   "source": [
    "from sklearn.metrics import classification_report"
   ]
  },
  {
   "cell_type": "code",
   "execution_count": 51,
   "id": "078a88a0",
   "metadata": {
    "execution": {
     "iopub.execute_input": "2022-01-07T16:11:08.799616Z",
     "iopub.status.busy": "2022-01-07T16:11:08.797471Z",
     "iopub.status.idle": "2022-01-07T16:11:08.837049Z",
     "shell.execute_reply": "2022-01-07T16:11:08.837924Z",
     "shell.execute_reply.started": "2022-01-06T15:43:45.143597Z"
    },
    "papermill": {
     "duration": 0.108641,
     "end_time": "2022-01-07T16:11:08.838195",
     "exception": false,
     "start_time": "2022-01-07T16:11:08.729554",
     "status": "completed"
    },
    "tags": []
   },
   "outputs": [
    {
     "name": "stdout",
     "output_type": "stream",
     "text": [
      "              precision    recall  f1-score   support\n",
      "\n",
      "         ham       0.96      1.00      0.98       965\n",
      "        spam       1.00      0.73      0.84       150\n",
      "\n",
      "    accuracy                           0.96      1115\n",
      "   macro avg       0.98      0.86      0.91      1115\n",
      "weighted avg       0.96      0.96      0.96      1115\n",
      "\n"
     ]
    }
   ],
   "source": [
    "print(classification_report(y_test,y_preds_mnb))"
   ]
  },
  {
   "cell_type": "code",
   "execution_count": 52,
   "id": "d615d2cd",
   "metadata": {
    "execution": {
     "iopub.execute_input": "2022-01-07T16:11:08.964784Z",
     "iopub.status.busy": "2022-01-07T16:11:08.963549Z",
     "iopub.status.idle": "2022-01-07T16:11:08.967520Z",
     "shell.execute_reply": "2022-01-07T16:11:08.968028Z",
     "shell.execute_reply.started": "2022-01-06T15:44:10.426338Z"
    },
    "papermill": {
     "duration": 0.069089,
     "end_time": "2022-01-07T16:11:08.968200",
     "exception": false,
     "start_time": "2022-01-07T16:11:08.899111",
     "status": "completed"
    },
    "tags": []
   },
   "outputs": [],
   "source": [
    "from sklearn.metrics import accuracy_score"
   ]
  },
  {
   "cell_type": "code",
   "execution_count": 53,
   "id": "a22be1ad",
   "metadata": {
    "execution": {
     "iopub.execute_input": "2022-01-07T16:11:09.098775Z",
     "iopub.status.busy": "2022-01-07T16:11:09.097901Z",
     "iopub.status.idle": "2022-01-07T16:11:09.101742Z",
     "shell.execute_reply": "2022-01-07T16:11:09.102265Z",
     "shell.execute_reply.started": "2022-01-06T15:44:38.797843Z"
    },
    "papermill": {
     "duration": 0.073785,
     "end_time": "2022-01-07T16:11:09.102486",
     "exception": false,
     "start_time": "2022-01-07T16:11:09.028701",
     "status": "completed"
    },
    "tags": []
   },
   "outputs": [
    {
     "name": "stdout",
     "output_type": "stream",
     "text": [
      "0.9632286995515695\n"
     ]
    }
   ],
   "source": [
    "print(accuracy_score(y_test,y_preds_mnb))"
   ]
  }
 ],
 "metadata": {
  "kernelspec": {
   "display_name": "Python 3",
   "language": "python",
   "name": "python3"
  },
  "language_info": {
   "codemirror_mode": {
    "name": "ipython",
    "version": 3
   },
   "file_extension": ".py",
   "mimetype": "text/x-python",
   "name": "python",
   "nbconvert_exporter": "python",
   "pygments_lexer": "ipython3",
   "version": "3.7.12"
  },
  "papermill": {
   "default_parameters": {},
   "duration": 40.399078,
   "end_time": "2022-01-07T16:11:10.075896",
   "environment_variables": {},
   "exception": null,
   "input_path": "__notebook__.ipynb",
   "output_path": "__notebook__.ipynb",
   "parameters": {},
   "start_time": "2022-01-07T16:10:29.676818",
   "version": "2.3.3"
  }
 },
 "nbformat": 4,
 "nbformat_minor": 5
}
